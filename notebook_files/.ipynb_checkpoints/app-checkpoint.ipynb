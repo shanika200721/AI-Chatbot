{
 "cells": [
  {
   "cell_type": "code",
   "execution_count": 15,
   "id": "c70ce8e8-56f1-43aa-8807-967dcd3d78a8",
   "metadata": {},
   "outputs": [
    {
     "name": "stdout",
     "output_type": "stream",
     "text": [
      "Requirement already satisfied: flask in c:\\users\\shanika\\appdata\\roaming\\python\\python312\\site-packages (3.1.0)\n",
      "Requirement already satisfied: twilio in c:\\users\\shanika\\appdata\\roaming\\python\\python312\\site-packages (9.6.1)\n",
      "Requirement already satisfied: pyngrok in c:\\users\\shanika\\anaconda3\\lib\\site-packages (7.2.8)\n",
      "Requirement already satisfied: Werkzeug>=3.1 in c:\\users\\shanika\\appdata\\roaming\\python\\python312\\site-packages (from flask) (3.1.3)\n",
      "Requirement already satisfied: Jinja2>=3.1.2 in c:\\users\\shanika\\appdata\\roaming\\python\\python312\\site-packages (from flask) (3.1.5)\n",
      "Requirement already satisfied: itsdangerous>=2.2 in c:\\users\\shanika\\appdata\\roaming\\python\\python312\\site-packages (from flask) (2.2.0)\n",
      "Requirement already satisfied: click>=8.1.3 in c:\\users\\shanika\\appdata\\roaming\\python\\python312\\site-packages (from flask) (8.1.8)\n",
      "Requirement already satisfied: blinker>=1.9 in c:\\users\\shanika\\appdata\\roaming\\python\\python312\\site-packages (from flask) (1.9.0)\n",
      "Requirement already satisfied: requests>=2.0.0 in c:\\users\\shanika\\appdata\\roaming\\python\\python312\\site-packages (from twilio) (2.32.3)\n",
      "Requirement already satisfied: PyJWT<3.0.0,>=2.0.0 in c:\\users\\shanika\\appdata\\roaming\\python\\python312\\site-packages (from twilio) (2.10.1)\n",
      "Requirement already satisfied: aiohttp>=3.8.4 in c:\\users\\shanika\\appdata\\roaming\\python\\python312\\site-packages (from twilio) (3.12.0)\n",
      "Requirement already satisfied: aiohttp-retry>=2.8.3 in c:\\users\\shanika\\appdata\\roaming\\python\\python312\\site-packages (from twilio) (2.9.1)\n",
      "Requirement already satisfied: PyYAML>=5.1 in c:\\users\\shanika\\appdata\\roaming\\python\\python312\\site-packages (from pyngrok) (6.0.2)\n",
      "Requirement already satisfied: aiohappyeyeballs>=2.5.0 in c:\\users\\shanika\\appdata\\roaming\\python\\python312\\site-packages (from aiohttp>=3.8.4->twilio) (2.6.1)\n",
      "Requirement already satisfied: aiosignal>=1.1.2 in c:\\users\\shanika\\appdata\\roaming\\python\\python312\\site-packages (from aiohttp>=3.8.4->twilio) (1.3.2)\n",
      "Requirement already satisfied: attrs>=17.3.0 in c:\\users\\shanika\\appdata\\roaming\\python\\python312\\site-packages (from aiohttp>=3.8.4->twilio) (25.1.0)\n",
      "Requirement already satisfied: frozenlist>=1.1.1 in c:\\users\\shanika\\appdata\\roaming\\python\\python312\\site-packages (from aiohttp>=3.8.4->twilio) (1.6.0)\n",
      "Requirement already satisfied: multidict<7.0,>=4.5 in c:\\users\\shanika\\appdata\\roaming\\python\\python312\\site-packages (from aiohttp>=3.8.4->twilio) (6.4.4)\n",
      "Requirement already satisfied: propcache>=0.2.0 in c:\\users\\shanika\\appdata\\roaming\\python\\python312\\site-packages (from aiohttp>=3.8.4->twilio) (0.3.1)\n",
      "Requirement already satisfied: yarl<2.0,>=1.17.0 in c:\\users\\shanika\\appdata\\roaming\\python\\python312\\site-packages (from aiohttp>=3.8.4->twilio) (1.20.0)\n",
      "Requirement already satisfied: colorama in c:\\users\\shanika\\appdata\\roaming\\python\\python312\\site-packages (from click>=8.1.3->flask) (0.4.6)\n",
      "Requirement already satisfied: MarkupSafe>=2.0 in c:\\users\\shanika\\appdata\\roaming\\python\\python312\\site-packages (from Jinja2>=3.1.2->flask) (3.0.2)\n",
      "Requirement already satisfied: charset-normalizer<4,>=2 in c:\\users\\shanika\\appdata\\roaming\\python\\python312\\site-packages (from requests>=2.0.0->twilio) (3.4.1)\n",
      "Requirement already satisfied: idna<4,>=2.5 in c:\\users\\shanika\\appdata\\roaming\\python\\python312\\site-packages (from requests>=2.0.0->twilio) (3.10)\n",
      "Requirement already satisfied: urllib3<3,>=1.21.1 in c:\\users\\shanika\\appdata\\roaming\\python\\python312\\site-packages (from requests>=2.0.0->twilio) (2.3.0)\n",
      "Requirement already satisfied: certifi>=2017.4.17 in c:\\users\\shanika\\appdata\\roaming\\python\\python312\\site-packages (from requests>=2.0.0->twilio) (2025.1.31)\n"
     ]
    },
    {
     "name": "stderr",
     "output_type": "stream",
     "text": [
      "\n",
      "[notice] A new release of pip is available: 25.0.1 -> 25.1.1\n",
      "[notice] To update, run: python.exe -m pip install --upgrade pip\n"
     ]
    }
   ],
   "source": [
    "!pip install flask twilio pyngrok"
   ]
  },
  {
   "cell_type": "code",
   "execution_count": 17,
   "id": "4acf91ec-430f-42ae-bfb9-74213d8505e4",
   "metadata": {},
   "outputs": [
    {
     "name": "stderr",
     "output_type": "stream",
     "text": [
      "WARNING:absl:Compiled the loaded model, but the compiled metrics have yet to be built. `model.compile_metrics` will be empty until you train or evaluate the model.\n"
     ]
    },
    {
     "name": "stdout",
     "output_type": "stream",
     "text": [
      "🤖 GradieBears Chatbot is ready! (Type 'quit' to exit)\n"
     ]
    },
    {
     "name": "stdin",
     "output_type": "stream",
     "text": [
      "You:  quit\n"
     ]
    }
   ],
   "source": [
    "%run chatbot.ipynb  # This makes all functions available"
   ]
  },
  {
   "cell_type": "code",
   "execution_count": 19,
   "id": "12656e0d-f1cb-4942-bab2-3f5d4b96b297",
   "metadata": {},
   "outputs": [],
   "source": [
    "from flask import Flask, request\n",
    "from twilio.twiml.messaging_response import MessagingResponse\n",
    "\n",
    "app = Flask(__name__)\n",
    "\n",
    "@app.route('/whatsapp', methods=['POST'])\n",
    "def reply():\n",
    "    user_msg = request.values.get('Body', '').lower()\n",
    "    resp = MessagingResponse()\n",
    "    \n",
    "    # Handle special cases\n",
    "    if 'kelaniya' in user_msg:\n",
    "        response = \"🎓 Special for University of Kelaniya students!\\nFree delivery + 5% discount!\"\n",
    "    else:\n",
    "        ints = predict_intent(user_msg)\n",
    "        response = get_response(ints)\n",
    "    \n",
    "    resp.message(response)\n",
    "    return str(resp)\n"
   ]
  },
  {
   "cell_type": "code",
   "execution_count": 23,
   "id": "8783218a-c7b9-4eda-a26c-8f5b679b1738",
   "metadata": {},
   "outputs": [
    {
     "name": "stdout",
     "output_type": "stream",
     "text": [
      "Requirement already satisfied: pyngrok in c:\\users\\shanika\\anaconda3\\lib\\site-packages (7.2.8)\n",
      "Requirement already satisfied: PyYAML>=5.1 in c:\\users\\shanika\\appdata\\roaming\\python\\python312\\site-packages (from pyngrok) (6.0.2)\n"
     ]
    },
    {
     "name": "stderr",
     "output_type": "stream",
     "text": [
      "\n",
      "[notice] A new release of pip is available: 25.0.1 -> 25.1.1\n",
      "[notice] To update, run: python.exe -m pip install --upgrade pip\n"
     ]
    },
    {
     "name": "stdout",
     "output_type": "stream",
     "text": [
      "WhatsApp Webhook URL: https://2660-2407-c00-e003-6a0d-18ff-311d-5c62-807f.ngrok-free.app/whatsapp\n"
     ]
    }
   ],
   "source": [
    "!pip install pyngrok\n",
    "from pyngrok import ngrok\n",
    "\n",
    "# Set your auth token (replace with your actual token)\n",
    "ngrok.set_auth_token(\"2xZgWkaSN7aIb1DxtGZ0p8Hpk1d_24Hv9XVQfafrGduqVoPgK\")\n",
    "\n",
    "# Start the tunnel and get the public URL\n",
    "tunnel = ngrok.connect(5000)\n",
    "public_url = tunnel.public_url  # Get the URL string from the tunnel object\n",
    "print(\"WhatsApp Webhook URL:\", public_url + \"/whatsapp\")"
   ]
  },
  {
   "cell_type": "code",
   "execution_count": 25,
   "id": "67b4dc03-c215-4097-b024-7e684931a521",
   "metadata": {},
   "outputs": [
    {
     "name": "stdout",
     "output_type": "stream",
     "text": [
      " * Serving Flask app '__main__'\n",
      " * Debug mode: on\n"
     ]
    },
    {
     "name": "stderr",
     "output_type": "stream",
     "text": [
      "INFO:werkzeug:\u001b[31m\u001b[1mWARNING: This is a development server. Do not use it in a production deployment. Use a production WSGI server instead.\u001b[0m\n",
      " * Running on http://127.0.0.1:5000\n",
      "INFO:werkzeug:\u001b[33mPress CTRL+C to quit\u001b[0m\n",
      "INFO:werkzeug: * Restarting with watchdog (windowsapi)\n"
     ]
    },
    {
     "ename": "SystemExit",
     "evalue": "1",
     "output_type": "error",
     "traceback": [
      "An exception has occurred, use %tb to see the full traceback.\n",
      "\u001b[1;31mSystemExit\u001b[0m\u001b[1;31m:\u001b[0m 1\n"
     ]
    }
   ],
   "source": [
    "if __name__ == '__main__':\n",
    "    app.run(debug=True, port=5000)\n"
   ]
  },
  {
   "cell_type": "code",
   "execution_count": 27,
   "id": "862f5c91-b83c-4d98-855f-b2ef768c38b2",
   "metadata": {},
   "outputs": [
    {
     "name": "stdout",
     "output_type": "stream",
     "text": [
      "Valid configuration file at C:\\Users\\Shanika\\AppData\\Local/ngrok/ngrok.yml\n"
     ]
    }
   ],
   "source": [
    "!ngrok config check"
   ]
  },
  {
   "cell_type": "code",
   "execution_count": null,
   "id": "1223c806-7c41-4e63-841a-fa5634c3b8fa",
   "metadata": {},
   "outputs": [],
   "source": []
  }
 ],
 "metadata": {
  "kernelspec": {
   "display_name": "Python [conda env:base] *",
   "language": "python",
   "name": "conda-base-py"
  },
  "language_info": {
   "codemirror_mode": {
    "name": "ipython",
    "version": 3
   },
   "file_extension": ".py",
   "mimetype": "text/x-python",
   "name": "python",
   "nbconvert_exporter": "python",
   "pygments_lexer": "ipython3",
   "version": "3.12.7"
  },
  "widgets": {
   "application/vnd.jupyter.widget-state+json": {
    "state": {},
    "version_major": 2,
    "version_minor": 0
   }
  }
 },
 "nbformat": 4,
 "nbformat_minor": 5
}
